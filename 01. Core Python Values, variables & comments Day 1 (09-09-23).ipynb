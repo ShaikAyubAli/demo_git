{
 "cells": [
  {
   "cell_type": "markdown",
   "id": "aba09221",
   "metadata": {},
   "source": [
    "# Data Science\n",
    "## Python\n",
    "* This is my first Python Program in NareshIT\n",
    "* Now we are about to learnt **Variable** and **values** in python introduction\n",
    "* Now we are going to write the code and save it in our D drive. "
   ]
  },
  {
   "cell_type": "code",
   "execution_count": 1,
   "id": "67ecf141",
   "metadata": {},
   "outputs": [
    {
     "name": "stdout",
     "output_type": "stream",
     "text": [
      "The sum of all numbers is: 189\n"
     ]
    }
   ],
   "source": [
    "a = 10\n",
    "b = 35\n",
    "c = 56\n",
    "d = 88\n",
    "print (\"The sum of all numbers is:\", a+b+c+d )"
   ]
  },
  {
   "cell_type": "markdown",
   "id": "7d055359",
   "metadata": {},
   "source": [
    "* From the above cell **a,b,c,d** are **variables**\n",
    "* **10,35,56,88** are **values** "
   ]
  },
  {
   "cell_type": "markdown",
   "id": "314b3310",
   "metadata": {},
   "source": [
    "# Value\n",
    "* Value can be of 4 types they are\n",
    "1. Numerical Value\n",
    "2. Text\n",
    "3. Numerical and Text combination\n",
    "4. Special Character \n",
    "* Values Should follow syntax. \n",
    "1. numeric values can be written directly \n",
    "2. characters has to be written inside of \" \" marks \n",
    "3. Special characters also has to be written in \" \" marks."
   ]
  },
  {
   "cell_type": "code",
   "execution_count": 2,
   "id": "4e883383",
   "metadata": {},
   "outputs": [
    {
     "name": "stdout",
     "output_type": "stream",
     "text": [
      "384 47.99 Nice 45%\n"
     ]
    }
   ],
   "source": [
    "a = 384\n",
    "b = 47.99\n",
    "c = \"Nice\"\n",
    "d = \"45%\"\n",
    "print (a , b , c , d )"
   ]
  },
  {
   "cell_type": "markdown",
   "id": "f59f7cb3",
   "metadata": {},
   "source": [
    "# Variables \n",
    "* variable can be defined as **address** where the value is stored\n",
    "* variables have some rules or syntax \n",
    "1. Variable **should not start with numbers** \n",
    "2. Variables **should not contain Special Characters**\n",
    "3. variable **can have numbers or characters in between them**\n",
    "4. To include numbers or special characters or more than two characters we need to use **-** in between them (ex:str_len1)\n",
    "5. variable starting with **_** is known as **private variable** whose values are hided (ex: '_password')"
   ]
  },
  {
   "cell_type": "code",
   "execution_count": 12,
   "id": "0eaba999",
   "metadata": {},
   "outputs": [
    {
     "name": "stdout",
     "output_type": "stream",
     "text": [
      "$$\n"
     ]
    }
   ],
   "source": [
    "#1var = 10                  #cannot start with num\n",
    "#$Dollar = 98               # cannot use special char\n",
    "#favorable nums = 55       # no spacing is allowed\n",
    "# The above statements throughs #syntax error.\n",
    "fav_symbol = \"$$\"\n",
    "print(fav_symbol)"
   ]
  },
  {
   "cell_type": "markdown",
   "id": "da863697",
   "metadata": {},
   "source": [
    "# Comments \n",
    "* Comments can be written in python for easy understanding with **#** and **compiler ignores the comments**\n",
    "* there are two types of comments \n",
    "1. **single line comment line** which is denoted with **#** \n",
    "2. **Multiline comment line** this can be written in two types \n",
    " - \"\"\" This is a multiline \n",
    "   comment Line \"\"\" .\n",
    " - ''' This is also a multiline \n",
    " comment line '''"
   ]
  },
  {
   "cell_type": "code",
   "execution_count": 14,
   "id": "b934e661",
   "metadata": {},
   "outputs": [
    {
     "name": "stdout",
     "output_type": "stream",
     "text": [
      "45 43\n"
     ]
    }
   ],
   "source": [
    "# my first program \n",
    "\"\"\" In NareshIT this is\n",
    "my first python program \"\"\"\n",
    "''' This is the first time\n",
    "I am using jupyter notebook I really like its interface '''\n",
    "# python ignores above comment lines\n",
    "first = 45\n",
    "second = 43\n",
    "print (first , second )"
   ]
  },
  {
   "cell_type": "code",
   "execution_count": null,
   "id": "78ef0253",
   "metadata": {},
   "outputs": [],
   "source": []
  }
 ],
 "metadata": {
  "kernelspec": {
   "display_name": "Python 3 (ipykernel)",
   "language": "python",
   "name": "python3"
  },
  "language_info": {
   "codemirror_mode": {
    "name": "ipython",
    "version": 3
   },
   "file_extension": ".py",
   "mimetype": "text/x-python",
   "name": "python",
   "nbconvert_exporter": "python",
   "pygments_lexer": "ipython3",
   "version": "3.11.4"
  }
 },
 "nbformat": 4,
 "nbformat_minor": 5
}
